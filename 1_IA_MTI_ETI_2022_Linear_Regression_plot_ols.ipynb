{
  "nbformat": 4,
  "nbformat_minor": 0,
  "metadata": {
    "kernelspec": {
      "display_name": "Python 3",
      "language": "python",
      "name": "python3"
    },
    "language_info": {
      "codemirror_mode": {
        "name": "ipython",
        "version": 3
      },
      "file_extension": ".py",
      "mimetype": "text/x-python",
      "name": "python",
      "nbconvert_exporter": "python",
      "pygments_lexer": "ipython3",
      "version": "3.9.4"
    },
    "colab": {
      "provenance": [],
      "include_colab_link": true
    }
  },
  "cells": [
    {
      "cell_type": "markdown",
      "metadata": {
        "id": "view-in-github",
        "colab_type": "text"
      },
      "source": [
        "<a href=\"https://colab.research.google.com/github/fernandezja/mti-ia/blob/main/1_IA_MTI_ETI_2022_Linear_Regression_plot_ols.ipynb\" target=\"_parent\"><img src=\"https://colab.research.google.com/assets/colab-badge.svg\" alt=\"Open In Colab\"/></a>"
      ]
    },
    {
      "cell_type": "markdown",
      "metadata": {
        "id": "BkTkO6akPv5C"
      },
      "source": [
        "Esta libreta se ha obtenido y modificado del sitio web de ejemplos de Scikit-learn, con el propósito de ser usado como material didáctico de la asignatura Introducción al Aprendizaje de Máquina correspondiente al Doctorado en Informática (UNNE, UNaM, UTN)\n",
        "\n",
        "https://scikit-learn.org/stable/auto_examples/linear_model/plot_ols.html#sphx-glr-auto-examples-linear-model-plot-ols-py\n",
        "\n",
        "\n",
        "La libreta con la solución se encuentra en:\n",
        "https://colab.research.google.com/drive/1c9IVDch-wKUtsricvq8tNVEBfdcWGZYt?usp=drive_link"
      ]
    },
    {
      "cell_type": "code",
      "metadata": {
        "id": "CXLJrtAA1gig"
      },
      "source": [
        "%matplotlib inline"
      ],
      "execution_count": null,
      "outputs": []
    },
    {
      "cell_type": "markdown",
      "metadata": {
        "id": "Y8WnNynE1giy"
      },
      "source": [
        "\n",
        "# Linear Regression Example\n",
        "## Subtítulo\n",
        "The example below uses only the first feature of the `diabetes` dataset,\n",
        "in order to illustrate the data points within the two-dimensional plot.\n",
        "The straight line can be seen in the plot, showing how linear regression\n",
        "attempts to draw a straight line that will best minimize the\n",
        "residual sum of squares between the observed responses in the dataset,\n",
        "and the responses predicted by the linear approximation.\n",
        "\n",
        "The coefficients, residual sum of squares and the coefficient of\n",
        "determination are also calculated.\n"
      ]
    },
    {
      "cell_type": "code",
      "metadata": {
        "id": "MseizCXg1gi0"
      },
      "source": [
        "print(__doc__)\n",
        "\n",
        "\n",
        "# Code source: Jaques Grobler\n",
        "# License: BSD 3 clause\n",
        "\n",
        "\n",
        "import matplotlib.pyplot as plt\n",
        "import numpy as np\n",
        "from sklearn import datasets, linear_model\n",
        "from sklearn.metrics import mean_squared_error\n",
        "\n",
        "# Load the diabetes dataset\n",
        "diabetes_X, diabetes_y = datasets.load_diabetes(return_X_y=True)\n",
        "\n",
        "# Use only one feature\n",
        "diabetes_X = diabetes_X[:, np.newaxis, 2]\n",
        "\n",
        "# Split the data into training/testing sets\n",
        "diabetes_X_train = diabetes_X[:-20]\n",
        "diabetes_X_test = diabetes_X[-20:]\n",
        "\n",
        "# Split the targets into training/testing sets\n",
        "diabetes_y_train = #[COMPLETAR EL CODIGO AQUI]#\n",
        "diabetes_y_test = #[COMPLETAR EL CODIGO AQUI]#\n",
        "\n",
        "# Create linear regression object\n",
        "regr = linear_model.LinearRegression()\n",
        "\n",
        "# Train the model using the training sets\n",
        "regr.fit(#[COMPLETAR EL CODIGO AQUI]#, diabetes_y_train)\n",
        "\n",
        "# Make predictions using the testing set\n",
        "diabetes_y_pred = regr.predict(#[COMPLETAR EL CODIGO AQUI])\n",
        "\n",
        "# The coefficients\n",
        "print('Coefficients: \\n', regr.coef_)\n",
        "# The mean squared error\n",
        "print('Mean squared error: %.2f'\n",
        "      % mean_squared_error(diabetes_y_test, diabetes_y_pred))\n",
        "\n",
        "\n",
        "# Plot outputs\n",
        "plt.scatter(diabetes_X_test, diabetes_y_test,  color='black')\n",
        "plt.plot(diabetes_X_test, diabetes_y_pred, color='blue', linewidth=3)\n",
        "\n",
        "plt.xticks(())\n",
        "plt.yticks(())\n",
        "\n",
        "plt.show()"
      ],
      "execution_count": null,
      "outputs": []
    },
    {
      "cell_type": "markdown",
      "metadata": {
        "id": "FHSMjTKY4Cng"
      },
      "source": [
        "# Preguntas\n",
        "\n",
        "1. ¿Qué ocurre si modificamos la proporción de los datos de entrenamiento y test?\n",
        "2. ¿Qué otros algoritmos podríamos utilizar para esta tarea?\n",
        "3. ¿Qué otra métrica de desempeño se puede utilizar?"
      ]
    }
  ]
}